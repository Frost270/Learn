{
  "nbformat": 4,
  "nbformat_minor": 0,
  "metadata": {
    "colab": {
      "provenance": [],
      "authorship_tag": "ABX9TyNfUctrxOiauXcEimtqkY3+",
      "include_colab_link": true
    },
    "kernelspec": {
      "name": "python3",
      "display_name": "Python 3"
    },
    "language_info": {
      "name": "python"
    }
  },
  "cells": [
    {
      "cell_type": "markdown",
      "metadata": {
        "id": "view-in-github",
        "colab_type": "text"
      },
      "source": [
        "<a href=\"https://colab.research.google.com/github/Frost270/Python/blob/main/Python/Reverse_Pattern_Printing(Nested_For_loop_Basic).ipynb\" target=\"_parent\"><img src=\"https://colab.research.google.com/assets/colab-badge.svg\" alt=\"Open In Colab\"/></a>"
      ]
    },
    {
      "cell_type": "markdown",
      "source": [
        "### Reverse Pattern Printing using for loop"
      ],
      "metadata": {
        "id": "6iH2z9hnp0jT"
      }
    },
    {
      "cell_type": "code",
      "source": [
        "#nested loops\n",
        "n=5\n",
        "for i in range(n,0,-1): #Responsible for rows\n",
        "  for j in range(i): #Responsible for printing stars\n",
        "    print(\"*\", end=\" \")\n",
        "  print(\"\")"
      ],
      "metadata": {
        "colab": {
          "base_uri": "https://localhost:8080/"
        },
        "id": "qp-32cvJp385",
        "outputId": "49f9b85f-29a6-4d43-f1c2-23268319827a"
      },
      "execution_count": 40,
      "outputs": [
        {
          "output_type": "stream",
          "name": "stdout",
          "text": [
            "* * * * * \n",
            "* * * * \n",
            "* * * \n",
            "* * \n",
            "* \n"
          ]
        }
      ]
    }
  ]
}