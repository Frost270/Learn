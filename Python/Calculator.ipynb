{
  "nbformat": 4,
  "nbformat_minor": 0,
  "metadata": {
    "colab": {
      "provenance": [],
      "authorship_tag": "ABX9TyMwdLWx4w0kwh0B7KBLI2+U",
      "include_colab_link": true
    },
    "kernelspec": {
      "name": "python3",
      "display_name": "Python 3"
    },
    "language_info": {
      "name": "python"
    }
  },
  "cells": [
    {
      "cell_type": "markdown",
      "metadata": {
        "id": "view-in-github",
        "colab_type": "text"
      },
      "source": [
        "<a href=\"https://colab.research.google.com/github/Frost270/Python/blob/main/Python/Calculator.ipynb\" target=\"_parent\"><img src=\"https://colab.research.google.com/assets/colab-badge.svg\" alt=\"Open In Colab\"/></a>"
      ]
    },
    {
      "cell_type": "code",
      "execution_count": 2,
      "metadata": {
        "colab": {
          "base_uri": "https://localhost:8080/"
        },
        "id": "l8d6El4tqeAX",
        "outputId": "99176e7f-73e9-4921-aa32-198bfc568605"
      },
      "outputs": [
        {
          "output_type": "stream",
          "name": "stdout",
          "text": [
            "Enter 1st number: 10\n",
            "Enter 2nd number: 20\n",
            "Sum is 30\n",
            "Difference is -10\n",
            "Product is 200\n",
            "Division is 0.5\n"
          ]
        }
      ],
      "source": [
        "num1=int(input(\"Enter 1st number: \"))\n",
        "num2=int(input(\"Enter 2nd number: \"))\n",
        "add=num1+num2\n",
        "sub=num1-num2\n",
        "mul=num1*num2\n",
        "div=num1/num2\n",
        "print(\"Sum is\",add)\n",
        "print(\"Difference is\",sub)\n",
        "print(\"Product is\",mul)\n",
        "print(\"Division is\",div)"
      ]
    }
  ]
}