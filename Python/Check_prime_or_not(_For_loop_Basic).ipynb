{
  "nbformat": 4,
  "nbformat_minor": 0,
  "metadata": {
    "colab": {
      "provenance": [],
      "authorship_tag": "ABX9TyPV6QXec0eaOSdnHRFQl24r",
      "include_colab_link": true
    },
    "kernelspec": {
      "name": "python3",
      "display_name": "Python 3"
    },
    "language_info": {
      "name": "python"
    }
  },
  "cells": [
    {
      "cell_type": "markdown",
      "metadata": {
        "id": "view-in-github",
        "colab_type": "text"
      },
      "source": [
        "<a href=\"https://colab.research.google.com/github/Frost270/Python/blob/main/Python/Check_prime_or_not(_For_loop_Basic).ipynb\" target=\"_parent\"><img src=\"https://colab.research.google.com/assets/colab-badge.svg\" alt=\"Open In Colab\"/></a>"
      ]
    },
    {
      "cell_type": "markdown",
      "source": [
        "### Check whether prime or not"
      ],
      "metadata": {
        "id": "6iH2z9hnp0jT"
      }
    },
    {
      "cell_type": "code",
      "source": [
        "n=int(input(\"Enter number to check: \"))\n",
        "is_prime=True\n",
        "for i in range(2, n):\n",
        "  if(n%i==0):\n",
        "    is_prime=False\n",
        "\n",
        "if(is_prime):\n",
        "  print(\"It is a Prime number\")\n",
        "else:\n",
        "  print(\"It is not a Prime number\")\n"
      ],
      "metadata": {
        "colab": {
          "base_uri": "https://localhost:8080/"
        },
        "id": "qp-32cvJp385",
        "outputId": "77127ca5-2586-4c9d-b978-69d525b2b4bc"
      },
      "execution_count": 7,
      "outputs": [
        {
          "output_type": "stream",
          "name": "stdout",
          "text": [
            "Enter number to check: 16\n",
            "It is not a Prime number\n"
          ]
        }
      ]
    }
  ]
}