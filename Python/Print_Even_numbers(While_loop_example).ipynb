{
  "nbformat": 4,
  "nbformat_minor": 0,
  "metadata": {
    "colab": {
      "provenance": [],
      "authorship_tag": "ABX9TyOfl7bDbPDzf9unmXaF3ZHW",
      "include_colab_link": true
    },
    "kernelspec": {
      "name": "python3",
      "display_name": "Python 3"
    },
    "language_info": {
      "name": "python"
    }
  },
  "cells": [
    {
      "cell_type": "markdown",
      "metadata": {
        "id": "view-in-github",
        "colab_type": "text"
      },
      "source": [
        "<a href=\"https://colab.research.google.com/github/Frost270/Python/blob/main/Python/Print_Even_numbers(While_loop_example).ipynb\" target=\"_parent\"><img src=\"https://colab.research.google.com/assets/colab-badge.svg\" alt=\"Open In Colab\"/></a>"
      ]
    },
    {
      "cell_type": "markdown",
      "source": [
        "### Print Even numbers using while loop"
      ],
      "metadata": {
        "id": "6iH2z9hnp0jT"
      }
    },
    {
      "cell_type": "code",
      "source": [
        "i=1           #initialization of a variable\n",
        "while(i<=20): #stopping condition\n",
        "              #inside while loop\n",
        "  if(i%2==0):\n",
        "    print(i,end=\" ,\")\n",
        "  i=i+1       #updation of the variable"
      ],
      "metadata": {
        "colab": {
          "base_uri": "https://localhost:8080/"
        },
        "id": "qp-32cvJp385",
        "outputId": "9cb333e5-6509-4780-ec2f-969f6da92967"
      },
      "execution_count": 19,
      "outputs": [
        {
          "output_type": "stream",
          "name": "stdout",
          "text": [
            "2 ,4 ,6 ,8 ,10 ,12 ,14 ,16 ,18 ,20 ,"
          ]
        }
      ]
    }
  ]
}